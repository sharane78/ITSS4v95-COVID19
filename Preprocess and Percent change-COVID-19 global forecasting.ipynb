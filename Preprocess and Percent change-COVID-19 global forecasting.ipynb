{
 "cells": [
  {
   "cell_type": "code",
   "execution_count": 119,
   "metadata": {},
   "outputs": [],
   "source": [
    "# preprocess to filter just march 24\n",
    "import pandas as pd\n",
    "\n",
    "df = pd.read_csv ('~/Documents/School/ITSS 4V95/Project 5_Data Set/train.csv')\n",
    "\n",
    "df = df.loc[df['Date']== '2020-03-24']\n",
    "print (df)\n",
    "df.to_csv('~/Documents/School/ITSS 4V95/march 24 preprocess.csv', index = False)"
   ]
  },
  {
   "cell_type": "code",
   "execution_count": 116,
   "metadata": {},
   "outputs": [],
   "source": [
    "# preprocess to filter just march 24 confirmed cases\n",
    "import pandas as pd\n",
    "\n",
    "df = pd.read_csv ('~/Documents/School/ITSS 4V95/Project 5_Data Set/train.csv')\n",
    "\n",
    "df = df.loc[df['Date']== '2020-03-24']\n",
    "\n",
    "df =df['ConfirmedCases']\n",
    "print (df)\n",
    "df.to_csv('~/Documents/School/ITSS 4V95/march 24 preprocess confirmed cases.csv', index = False)"
   ]
  },
  {
   "cell_type": "code",
   "execution_count": 117,
   "metadata": {},
   "outputs": [],
   "source": [
    "# preprocess to filter just march 24 fatalities\n",
    "import pandas as pd\n",
    "\n",
    "df = pd.read_csv ('~/Documents/School/ITSS 4V95/Project 5_Data Set/train.csv')\n",
    "\n",
    "df = df.loc[df['Date']== '2020-03-24']\n",
    "\n",
    "df =df['Fatalities']\n",
    "print (df)\n",
    "df.to_csv('~/Documents/School/ITSS 4V95/march 24 preprocess fatalities.csv', index = False)"
   ]
  },
  {
   "cell_type": "code",
   "execution_count": 118,
   "metadata": {},
   "outputs": [],
   "source": [
    "#for projection- seperate by country\n",
    "import pandas as pd\n",
    "\n",
    "df = pd.read_csv ('~/Documents/School/ITSS 4V95/Project 5_Data Set/train.csv')\n",
    "\n",
    "df = df.loc[df['Country/Region'] == 'Afghanistan']\n",
    "print(df)\n",
    "df.to_csv('~/Documents/School/ITSS 4V95/Preprocessed data by country/Afghanistan train.csv', index = False)"
   ]
  },
  {
   "cell_type": "code",
   "execution_count": 211,
   "metadata": {},
   "outputs": [
    {
     "name": "stdout",
     "output_type": "stream",
     "text": [
      "growth rate:  0.06568560675703533\n"
     ]
    }
   ],
   "source": [
    "#code to find the growth rate\n",
    "import pandas as pd\n",
    "\n",
    "df = pd.read_csv ('~/Documents/School/ITSS 4V95/Preprocessed data by country/Afghanistan train.csv')\n",
    "df= df['ConfirmedCases']\n",
    "\n",
    "x = 3\n",
    "total_percent_change = 0\n",
    "while (x < 63):\n",
    "    num = df.loc[x]\n",
    "    num1 = df.loc[(x-1)]\n",
    "   \n",
    "    if (num == 0):\n",
    "        percent_change = 0\n",
    "        total_percent_change = total_percent_change + percent_change\n",
    "        x += 1\n",
    "        \n",
    "    else:\n",
    "        percent_change = (num-num1)/num\n",
    "        x += 1\n",
    "        total_percent_change = total_percent_change + percent_change\n",
    "        \n",
    "growth_rate = (total_percent_change/63)\n",
    "print ('growth rate: ', growth_rate)\n"
   ]
  },
  {
   "cell_type": "code",
   "execution_count": 210,
   "metadata": {},
   "outputs": [
    {
     "name": "stdout",
     "output_type": "stream",
     "text": [
      "Date         Confirmed Cases\n",
      "2020-03-25   78.86073490002062\n",
      "2020-03-26   84.04075012123418\n",
      "2020-03-27   89.56101778526384\n",
      "2020-03-28   95.44388758026652\n",
      "2020-03-29   101.71317724722658\n",
      "2020-03-30   108.39426900989653\n",
      "2020-03-31   115.5142123387969\n",
      "2020-04-01   123.10183346533178\n",
      "2020-04-02   131.1878520894056\n",
      "2020-04-03   139.8050057530504\n",
      "2020-04-04   148.98818238361034\n",
      "2020-04-05   158.77456154310562\n",
      "2020-04-06   169.20376495564676\n",
      "2020-04-07   180.31801692233321\n",
      "2020-04-08   192.16231527310202\n",
      "2020-04-09   204.78461354765244\n",
      "2020-04-10   218.236015143035\n",
      "2020-04-11   232.5709802139428\n",
      "2020-04-12   247.84754616337406\n",
      "2020-04-13   264.1275626163576\n",
      "2020-04-14   281.47694182806987\n",
      "2020-04-15   299.9659255401614\n",
      "2020-04-16   319.66936936570255\n",
      "2020-04-17   340.66704585412754\n",
      "2020-04-18   363.04396746318264\n",
      "2020-04-19   386.89073074548315\n",
      "2020-04-20   412.303883143173\n",
      "2020-04-21   439.38631387571405\n",
      "2020-04-22   468.2476705033775\n"
     ]
    }
   ],
   "source": [
    "#code to project march 25 - april 22\n",
    "import pandas as pd\n",
    "import datetime\n",
    "\n",
    "df = pd.read_csv ('~/Documents/School/ITSS 4V95/Preprocessed data by country/Afghanistan train.csv')\n",
    "df= df['ConfirmedCases']\n",
    "\n",
    "i = df.loc[62]\n",
    "j = 0\n",
    "new_cases = []\n",
    "new_dates = []\n",
    "\n",
    "start_date = datetime.date(2020, 3, 25)\n",
    "end_date = datetime.date(2020, 4, 22)\n",
    "delta = datetime.timedelta(days=1)\n",
    "print ('Date        ','Confirmed Cases')\n",
    "while start_date <= end_date:\n",
    "    new_dates.append(start_date)\n",
    "    j = i*(1 + growth_rate)\n",
    "    new_cases.append(j)\n",
    "    print(start_date,' ', j)\n",
    "    i = j\n",
    "    start_date += delta\n",
    "    \n",
    "    \n",
    "df2 = pd.DataFrame(data=[new_dates, new_cases]).T\n",
    "\n",
    "\n",
    "df2.to_csv('~/Documents/School/ITSS 4V95/Afghanistan forecasted confirmed cases.csv', index = True)\n"
   ]
  },
  {
   "cell_type": "code",
   "execution_count": 208,
   "metadata": {
    "scrolled": true
   },
   "outputs": [
    {
     "data": {
      "text/html": [
       "<pre>Materializing X axis SArray</pre>"
      ],
      "text/plain": [
       "Materializing X axis SArray"
      ]
     },
     "metadata": {},
     "output_type": "display_data"
    },
    {
     "data": {
      "text/html": [
       "<pre>Materializing Y axis SArray</pre>"
      ],
      "text/plain": [
       "Materializing Y axis SArray"
      ]
     },
     "metadata": {},
     "output_type": "display_data"
    },
    {
     "data": {
      "text/html": [
       "<html>                 <body>                     <iframe style=\"border:0;margin:0\" width=\"920\" height=\"770\" srcdoc='<html lang=\"en\">                         <head>                             <script src=\"https://cdnjs.cloudflare.com/ajax/libs/vega/5.4.0/vega.js\"></script>                             <script src=\"https://cdnjs.cloudflare.com/ajax/libs/vega-embed/4.0.0/vega-embed.js\"></script>                             <script src=\"https://cdnjs.cloudflare.com/ajax/libs/vega-tooltip/0.5.1/vega-tooltip.min.js\"></script>                             <link rel=\"stylesheet\" type=\"text/css\" href=\"https://cdnjs.cloudflare.com/ajax/libs/vega-tooltip/0.5.1/vega-tooltip.min.css\">                             <style>                             .vega-actions > a{                                 color:white;                                 text-decoration: none;                                 font-family: \"Arial\";                                 cursor:pointer;                                 padding:5px;                                 background:#AAAAAA;                                 border-radius:4px;                                 padding-left:10px;                                 padding-right:10px;                                 margin-right:5px;                             }                             .vega-actions{                                 margin-top:20px;                                 text-align:center                             }                            .vega-actions > a{                                 background:#999999;                            }                             </style>                         </head>                         <body>                             <div id=\"vis\">                             </div>                             <script>                                 var vega_json = \"{\\\"$schema\\\": \\\"https://vega.github.io/schema/vega/v4.json\\\", \\\"autosize\\\": {\\\"type\\\": \\\"fit\\\", \\\"resize\\\": false, \\\"contains\\\": \\\"padding\\\"}, \\\"padding\\\": 8, \\\"width\\\": 720, \\\"height\\\": 550, \\\"style\\\": \\\"cell\\\", \\\"title\\\": \\\"Forecasted COVID-19 Confirmed Cases\\\", \\\"data\\\": [{\\\"name\\\": \\\"source_2\\\", \\\"values\\\": [{\\\"x\\\": 0, \\\"y\\\": 78.860735}, {\\\"x\\\": 1, \\\"y\\\": 84.04075}, {\\\"x\\\": 2, \\\"y\\\": 89.561018}, {\\\"x\\\": 3, \\\"y\\\": 95.443888}, {\\\"x\\\": 4, \\\"y\\\": 101.713177}, {\\\"x\\\": 5, \\\"y\\\": 108.394269}, {\\\"x\\\": 6, \\\"y\\\": 115.514212}, {\\\"x\\\": 7, \\\"y\\\": 123.101833}, {\\\"x\\\": 8, \\\"y\\\": 131.187852}, {\\\"x\\\": 9, \\\"y\\\": 139.805006}, {\\\"x\\\": 10, \\\"y\\\": 148.988182}, {\\\"x\\\": 11, \\\"y\\\": 158.774562}, {\\\"x\\\": 12, \\\"y\\\": 169.203765}, {\\\"x\\\": 13, \\\"y\\\": 180.318017}, {\\\"x\\\": 14, \\\"y\\\": 192.162315}, {\\\"x\\\": 15, \\\"y\\\": 204.784614}, {\\\"x\\\": 16, \\\"y\\\": 218.236015}, {\\\"x\\\": 17, \\\"y\\\": 232.57098}, {\\\"x\\\": 18, \\\"y\\\": 247.847546}, {\\\"x\\\": 19, \\\"y\\\": 264.127563}, {\\\"x\\\": 20, \\\"y\\\": 281.476942}, {\\\"x\\\": 21, \\\"y\\\": 299.965926}, {\\\"x\\\": 22, \\\"y\\\": 319.669369}, {\\\"x\\\": 23, \\\"y\\\": 340.667046}, {\\\"x\\\": 24, \\\"y\\\": 363.043967}, {\\\"x\\\": 25, \\\"y\\\": 386.890731}, {\\\"x\\\": 26, \\\"y\\\": 412.303883}, {\\\"x\\\": 27, \\\"y\\\": 439.386314}, {\\\"x\\\": 28, \\\"y\\\": 468.247671}]}], \\\"marks\\\": [{\\\"name\\\": \\\"marks\\\", \\\"type\\\": \\\"symbol\\\", \\\"style\\\": [\\\"circle\\\"], \\\"from\\\": {\\\"data\\\": \\\"source_2\\\"}, \\\"encode\\\": {\\\"hover\\\": {\\\"fill\\\": {\\\"value\\\": \\\"#7EC2F3\\\"}}, \\\"update\\\": {\\\"x\\\": {\\\"scale\\\": \\\"x\\\", \\\"field\\\": \\\"x\\\"}, \\\"y\\\": {\\\"scale\\\": \\\"y\\\", \\\"field\\\": \\\"y\\\", \\\"title\\\": \\\"Miles per Gallon\\\"}, \\\"fill\\\": {\\\"value\\\": \\\"#108EE9\\\"}, \\\"shape\\\": {\\\"value\\\": \\\"circle\\\"}, \\\"opacity\\\": {\\\"value\\\": 0.7}}}}], \\\"scales\\\": [{\\\"name\\\": \\\"x\\\", \\\"type\\\": \\\"linear\\\", \\\"domain\\\": {\\\"data\\\": \\\"source_2\\\", \\\"field\\\": \\\"x\\\"}, \\\"range\\\": [0, {\\\"signal\\\": \\\"width\\\"}], \\\"nice\\\": true, \\\"zero\\\": false, \\\"padding\\\": 5}, {\\\"name\\\": \\\"y\\\", \\\"type\\\": \\\"linear\\\", \\\"domain\\\": {\\\"data\\\": \\\"source_2\\\", \\\"field\\\": \\\"y\\\"}, \\\"range\\\": [{\\\"signal\\\": \\\"height\\\"}, 0], \\\"nice\\\": true, \\\"zero\\\": false, \\\"padding\\\": 5}], \\\"axes\\\": [{\\\"scale\\\": \\\"x\\\", \\\"labelOverlap\\\": true, \\\"orient\\\": \\\"bottom\\\", \\\"tickCount\\\": {\\\"signal\\\": \\\"ceil(width/40)\\\"}, \\\"title\\\": \\\"Days past March 24th, 2020\\\", \\\"zindex\\\": 1}, {\\\"scale\\\": \\\"x\\\", \\\"domain\\\": false, \\\"grid\\\": true, \\\"labels\\\": false, \\\"maxExtent\\\": 0, \\\"minExtent\\\": 0, \\\"orient\\\": \\\"bottom\\\", \\\"tickCount\\\": {\\\"signal\\\": \\\"ceil(width/40)\\\"}, \\\"ticks\\\": false, \\\"zindex\\\": 0, \\\"gridScale\\\": \\\"y\\\"}, {\\\"scale\\\": \\\"y\\\", \\\"labelOverlap\\\": true, \\\"orient\\\": \\\"left\\\", \\\"tickCount\\\": {\\\"signal\\\": \\\"ceil(height/40)\\\"}, \\\"title\\\": \\\"Cases\\\", \\\"zindex\\\": 1}, {\\\"scale\\\": \\\"y\\\", \\\"domain\\\": false, \\\"grid\\\": true, \\\"labels\\\": false, \\\"maxExtent\\\": 0, \\\"minExtent\\\": 0, \\\"orient\\\": \\\"left\\\", \\\"tickCount\\\": {\\\"signal\\\": \\\"ceil(height/40)\\\"}, \\\"ticks\\\": false, \\\"zindex\\\": 0, \\\"gridScale\\\": \\\"x\\\"}], \\\"config\\\": {\\\"axis\\\": {\\\"gridColor\\\": \\\"rgba(204,204,204,1.0)\\\", \\\"labelFont\\\": \\\"\\\\\\\"San Francisco\\\\\\\", HelveticaNeue, Arial\\\", \\\"labelFontSize\\\": 12, \\\"labelPadding\\\": 10, \\\"labelColor\\\": \\\"rgba(0,0,0,0.847)\\\", \\\"tickColor\\\": \\\"rgb(136,136,136)\\\", \\\"titleFont\\\": \\\"\\\\\\\"San Francisco\\\\\\\", HelveticaNeue, Arial\\\", \\\"titleFontWeight\\\": \\\"normal\\\", \\\"titlePadding\\\": 20, \\\"titleFontSize\\\": 14, \\\"titleColor\\\": \\\"rgba(0,0,0,0.847)\\\"}, \\\"axisY\\\": {\\\"minExtent\\\": 30}, \\\"legend\\\": {\\\"labelFont\\\": \\\"\\\\\\\"San Francisco\\\\\\\", HelveticaNeue, Arial\\\", \\\"labelColor\\\": \\\"rgba(0,0,0,0.847)\\\", \\\"titleFont\\\": \\\"\\\\\\\"San Francisco\\\\\\\", HelveticaNeue, Arial\\\", \\\"cornerRadius\\\": 30, \\\"gradientLength\\\": 608, \\\"titleColor\\\": \\\"rgba(0,0,0,0.847)\\\"}, \\\"range\\\": {\\\"heatmap\\\": {\\\"scheme\\\": \\\"greenblue\\\"}}, \\\"style\\\": {\\\"rect\\\": {\\\"stroke\\\": \\\"rgba(200, 200, 200, 0.5)\\\"}, \\\"cell\\\": {\\\"stroke\\\": \\\"transparent\\\"}, \\\"group-title\\\": {\\\"fontSize\\\": 29, \\\"font\\\": \\\"HelveticaNeue, Arial\\\", \\\"fontWeight\\\": \\\"normal\\\", \\\"fill\\\": \\\"rgba(0,0,0,0.65)\\\"}}, \\\"title\\\": {\\\"color\\\": \\\"rgba(0,0,0,0.847)\\\", \\\"font\\\": \\\"\\\\\\\"San Francisco\\\\\\\", HelveticaNeue, Arial\\\", \\\"fontSize\\\": 18, \\\"fontWeight\\\": \\\"normal\\\", \\\"offset\\\": 30}}}\";                                 var vega_json_parsed = JSON.parse(vega_json);                                 var toolTipOpts = {                                     showAllFields: true                                 };                                 if(vega_json_parsed[\"metadata\"] != null){                                     if(vega_json_parsed[\"metadata\"][\"bubbleOpts\"] != null){                                         toolTipOpts = vega_json_parsed[\"metadata\"][\"bubbleOpts\"];                                     };                                 };                                 vegaEmbed(\"#vis\", vega_json_parsed).then(function (result) {                                     vegaTooltip.vega(result.view, toolTipOpts);                                  });                             </script>                         </body>                     </html>' src=\"demo_iframe_srcdoc.htm\">                         <p>Your browser does not support iframes.</p>                     </iframe>                 </body>             </html>"
      ],
      "text/plain": [
       "<IPython.core.display.HTML object>"
      ]
     },
     "metadata": {},
     "output_type": "display_data"
    },
    {
     "data": {
      "text/plain": [
       "<turicreate.visualization._plot.Plot at 0x7fd3bd1f9e20>"
      ]
     },
     "execution_count": 208,
     "metadata": {},
     "output_type": "execute_result"
    }
   ],
   "source": [
    "#creating line graph for forcasted confirmed cases up to April 22nd, 2020\n",
    "import turicreate\n",
    "from turicreate import SArray\n",
    "\n",
    "date_sa = SArray(data=[0,1,2,3,4,5,6,7,8,9,10,11,12,13,14,15,16,17,18,19,20,21,22,23,24,25,26,27,28], dtype=int)\n",
    "cases_sa = SArray(new_cases, dtype=float)\n",
    "\n",
    "turicreate.plot(date_sa, cases_sa, xlabel='Days past March 24th, 2020', ylabel='Cases', title='Forecasted COVID-19 Confirmed Cases') "
   ]
  },
  {
   "cell_type": "code",
   "execution_count": null,
   "metadata": {},
   "outputs": [],
   "source": []
  }
 ],
 "metadata": {
  "kernelspec": {
   "display_name": "Python 3",
   "language": "python",
   "name": "python3"
  },
  "language_info": {
   "codemirror_mode": {
    "name": "ipython",
    "version": 3
   },
   "file_extension": ".py",
   "mimetype": "text/x-python",
   "name": "python",
   "nbconvert_exporter": "python",
   "pygments_lexer": "ipython3",
   "version": "3.8.3"
  }
 },
 "nbformat": 4,
 "nbformat_minor": 4
}
